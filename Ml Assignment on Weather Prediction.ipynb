{
 "cells": [
  {
   "cell_type": "markdown",
   "id": "572b3905",
   "metadata": {},
   "source": [
    "\n",
    "## 13/03/2024\n",
    "## BSS/2021/95740\n",
    "## ADEN ABDULLAHI"
   ]
  },
  {
   "cell_type": "code",
   "execution_count": 1,
   "id": "62e10137",
   "metadata": {},
   "outputs": [],
   "source": [
    "# loading neccessary libraries \n",
    "import pandas as pd\n",
    "import matplotlib.pyplot as plt\n"
   ]
  },
  {
   "cell_type": "code",
   "execution_count": 2,
   "id": "a84ad089",
   "metadata": {},
   "outputs": [
    {
     "data": {
      "text/html": [
       "<div>\n",
       "<style scoped>\n",
       "    .dataframe tbody tr th:only-of-type {\n",
       "        vertical-align: middle;\n",
       "    }\n",
       "\n",
       "    .dataframe tbody tr th {\n",
       "        vertical-align: top;\n",
       "    }\n",
       "\n",
       "    .dataframe thead th {\n",
       "        text-align: right;\n",
       "    }\n",
       "</style>\n",
       "<table border=\"1\" class=\"dataframe\">\n",
       "  <thead>\n",
       "    <tr style=\"text-align: right;\">\n",
       "      <th></th>\n",
       "      <th>Date</th>\n",
       "      <th>Location</th>\n",
       "      <th>Country</th>\n",
       "      <th>Temperature</th>\n",
       "      <th>CO2 Emissions</th>\n",
       "      <th>Sea Level Rise</th>\n",
       "      <th>Precipitation</th>\n",
       "      <th>Humidity</th>\n",
       "      <th>Wind Speed</th>\n",
       "    </tr>\n",
       "  </thead>\n",
       "  <tbody>\n",
       "    <tr>\n",
       "      <th>0</th>\n",
       "      <td>2000-01-01 00:00:00.000000000</td>\n",
       "      <td>New Williamtown</td>\n",
       "      <td>Latvia</td>\n",
       "      <td>10.688986</td>\n",
       "      <td>403.118903</td>\n",
       "      <td>0.717506</td>\n",
       "      <td>13.835237</td>\n",
       "      <td>23.631256</td>\n",
       "      <td>18.492026</td>\n",
       "    </tr>\n",
       "    <tr>\n",
       "      <th>1</th>\n",
       "      <td>2000-01-01 20:09:43.258325832</td>\n",
       "      <td>North Rachel</td>\n",
       "      <td>South Africa</td>\n",
       "      <td>13.814430</td>\n",
       "      <td>396.663499</td>\n",
       "      <td>1.205715</td>\n",
       "      <td>40.974084</td>\n",
       "      <td>43.982946</td>\n",
       "      <td>34.249300</td>\n",
       "    </tr>\n",
       "    <tr>\n",
       "      <th>2</th>\n",
       "      <td>2000-01-02 16:19:26.516651665</td>\n",
       "      <td>West Williamland</td>\n",
       "      <td>French Guiana</td>\n",
       "      <td>27.323718</td>\n",
       "      <td>451.553155</td>\n",
       "      <td>-0.160783</td>\n",
       "      <td>42.697931</td>\n",
       "      <td>96.652600</td>\n",
       "      <td>34.124261</td>\n",
       "    </tr>\n",
       "    <tr>\n",
       "      <th>3</th>\n",
       "      <td>2000-01-03 12:29:09.774977497</td>\n",
       "      <td>South David</td>\n",
       "      <td>Vietnam</td>\n",
       "      <td>12.309581</td>\n",
       "      <td>422.404983</td>\n",
       "      <td>-0.475931</td>\n",
       "      <td>5.193341</td>\n",
       "      <td>47.467938</td>\n",
       "      <td>8.554563</td>\n",
       "    </tr>\n",
       "    <tr>\n",
       "      <th>4</th>\n",
       "      <td>2000-01-04 08:38:53.033303330</td>\n",
       "      <td>New Scottburgh</td>\n",
       "      <td>Moldova</td>\n",
       "      <td>13.210885</td>\n",
       "      <td>410.472999</td>\n",
       "      <td>1.135757</td>\n",
       "      <td>78.695280</td>\n",
       "      <td>61.789672</td>\n",
       "      <td>8.001164</td>\n",
       "    </tr>\n",
       "  </tbody>\n",
       "</table>\n",
       "</div>"
      ],
      "text/plain": [
       "                            Date          Location        Country  \\\n",
       "0  2000-01-01 00:00:00.000000000   New Williamtown         Latvia   \n",
       "1  2000-01-01 20:09:43.258325832      North Rachel   South Africa   \n",
       "2  2000-01-02 16:19:26.516651665  West Williamland  French Guiana   \n",
       "3  2000-01-03 12:29:09.774977497       South David        Vietnam   \n",
       "4  2000-01-04 08:38:53.033303330    New Scottburgh        Moldova   \n",
       "\n",
       "   Temperature  CO2 Emissions  Sea Level Rise  Precipitation   Humidity  \\\n",
       "0    10.688986     403.118903        0.717506      13.835237  23.631256   \n",
       "1    13.814430     396.663499        1.205715      40.974084  43.982946   \n",
       "2    27.323718     451.553155       -0.160783      42.697931  96.652600   \n",
       "3    12.309581     422.404983       -0.475931       5.193341  47.467938   \n",
       "4    13.210885     410.472999        1.135757      78.695280  61.789672   \n",
       "\n",
       "   Wind Speed  \n",
       "0   18.492026  \n",
       "1   34.249300  \n",
       "2   34.124261  \n",
       "3    8.554563  \n",
       "4    8.001164  "
      ]
     },
     "execution_count": 2,
     "metadata": {},
     "output_type": "execute_result"
    }
   ],
   "source": [
    "# loading data \n",
    "cs=pd.read_csv(\"climate_change_data.csv\")\n",
    "cs.head()# head of the dataset"
   ]
  },
  {
   "cell_type": "code",
   "execution_count": 3,
   "id": "70327c72",
   "metadata": {},
   "outputs": [
    {
     "data": {
      "text/html": [
       "<div>\n",
       "<style scoped>\n",
       "    .dataframe tbody tr th:only-of-type {\n",
       "        vertical-align: middle;\n",
       "    }\n",
       "\n",
       "    .dataframe tbody tr th {\n",
       "        vertical-align: top;\n",
       "    }\n",
       "\n",
       "    .dataframe thead th {\n",
       "        text-align: right;\n",
       "    }\n",
       "</style>\n",
       "<table border=\"1\" class=\"dataframe\">\n",
       "  <thead>\n",
       "    <tr style=\"text-align: right;\">\n",
       "      <th></th>\n",
       "      <th>Date</th>\n",
       "      <th>Location</th>\n",
       "      <th>Country</th>\n",
       "      <th>Temperature</th>\n",
       "      <th>CO2 Emissions</th>\n",
       "      <th>Sea Level Rise</th>\n",
       "      <th>Precipitation</th>\n",
       "      <th>Humidity</th>\n",
       "      <th>Wind Speed</th>\n",
       "    </tr>\n",
       "  </thead>\n",
       "  <tbody>\n",
       "    <tr>\n",
       "      <th>9995</th>\n",
       "      <td>2022-12-27 15:21:06.966696576</td>\n",
       "      <td>South Elaineberg</td>\n",
       "      <td>Bhutan</td>\n",
       "      <td>15.020523</td>\n",
       "      <td>391.379537</td>\n",
       "      <td>-1.452243</td>\n",
       "      <td>93.417109</td>\n",
       "      <td>25.293814</td>\n",
       "      <td>6.531866</td>\n",
       "    </tr>\n",
       "    <tr>\n",
       "      <th>9996</th>\n",
       "      <td>2022-12-28 11:30:50.225022464</td>\n",
       "      <td>Leblancville</td>\n",
       "      <td>Congo</td>\n",
       "      <td>16.772451</td>\n",
       "      <td>346.921190</td>\n",
       "      <td>0.543616</td>\n",
       "      <td>49.882947</td>\n",
       "      <td>96.787402</td>\n",
       "      <td>42.249014</td>\n",
       "    </tr>\n",
       "    <tr>\n",
       "      <th>9997</th>\n",
       "      <td>2022-12-29 07:40:33.483348224</td>\n",
       "      <td>West Stephanie</td>\n",
       "      <td>Argentina</td>\n",
       "      <td>22.370025</td>\n",
       "      <td>466.042136</td>\n",
       "      <td>1.026704</td>\n",
       "      <td>30.659841</td>\n",
       "      <td>15.211825</td>\n",
       "      <td>18.293708</td>\n",
       "    </tr>\n",
       "    <tr>\n",
       "      <th>9998</th>\n",
       "      <td>2022-12-30 03:50:16.741674112</td>\n",
       "      <td>Port Steven</td>\n",
       "      <td>Albania</td>\n",
       "      <td>19.430853</td>\n",
       "      <td>337.899776</td>\n",
       "      <td>-0.895329</td>\n",
       "      <td>18.932275</td>\n",
       "      <td>82.774520</td>\n",
       "      <td>42.424255</td>\n",
       "    </tr>\n",
       "    <tr>\n",
       "      <th>9999</th>\n",
       "      <td>2022-12-31 00:00:00.000000000</td>\n",
       "      <td>West Anthonyburgh</td>\n",
       "      <td>Sao Tome and Principe</td>\n",
       "      <td>12.661928</td>\n",
       "      <td>381.172746</td>\n",
       "      <td>2.260788</td>\n",
       "      <td>78.339658</td>\n",
       "      <td>99.243923</td>\n",
       "      <td>41.856539</td>\n",
       "    </tr>\n",
       "  </tbody>\n",
       "</table>\n",
       "</div>"
      ],
      "text/plain": [
       "                               Date           Location                Country  \\\n",
       "9995  2022-12-27 15:21:06.966696576   South Elaineberg                 Bhutan   \n",
       "9996  2022-12-28 11:30:50.225022464       Leblancville                  Congo   \n",
       "9997  2022-12-29 07:40:33.483348224     West Stephanie              Argentina   \n",
       "9998  2022-12-30 03:50:16.741674112        Port Steven                Albania   \n",
       "9999  2022-12-31 00:00:00.000000000  West Anthonyburgh  Sao Tome and Principe   \n",
       "\n",
       "      Temperature  CO2 Emissions  Sea Level Rise  Precipitation   Humidity  \\\n",
       "9995    15.020523     391.379537       -1.452243      93.417109  25.293814   \n",
       "9996    16.772451     346.921190        0.543616      49.882947  96.787402   \n",
       "9997    22.370025     466.042136        1.026704      30.659841  15.211825   \n",
       "9998    19.430853     337.899776       -0.895329      18.932275  82.774520   \n",
       "9999    12.661928     381.172746        2.260788      78.339658  99.243923   \n",
       "\n",
       "      Wind Speed  \n",
       "9995    6.531866  \n",
       "9996   42.249014  \n",
       "9997   18.293708  \n",
       "9998   42.424255  \n",
       "9999   41.856539  "
      ]
     },
     "execution_count": 3,
     "metadata": {},
     "output_type": "execute_result"
    }
   ],
   "source": [
    "cs.tail()# tail of the dataset"
   ]
  },
  {
   "cell_type": "code",
   "execution_count": 4,
   "id": "bd90446d",
   "metadata": {},
   "outputs": [
    {
     "data": {
      "text/plain": [
       "(10000, 9)"
      ]
     },
     "execution_count": 4,
     "metadata": {},
     "output_type": "execute_result"
    }
   ],
   "source": [
    "cs.shape# shape of the dataset"
   ]
  },
  {
   "cell_type": "code",
   "execution_count": 5,
   "id": "7547a2b5",
   "metadata": {},
   "outputs": [
    {
     "data": {
      "text/plain": [
       "Index(['Date', 'Location', 'Country', 'Temperature', 'CO2 Emissions',\n",
       "       'Sea Level Rise', 'Precipitation', 'Humidity', 'Wind Speed'],\n",
       "      dtype='object')"
      ]
     },
     "execution_count": 5,
     "metadata": {},
     "output_type": "execute_result"
    }
   ],
   "source": [
    "cs.columns# columns names "
   ]
  },
  {
   "cell_type": "code",
   "execution_count": 6,
   "id": "3d697562",
   "metadata": {},
   "outputs": [
    {
     "name": "stdout",
     "output_type": "stream",
     "text": [
      "<class 'pandas.core.frame.DataFrame'>\n",
      "RangeIndex: 10000 entries, 0 to 9999\n",
      "Data columns (total 9 columns):\n",
      " #   Column          Non-Null Count  Dtype  \n",
      "---  ------          --------------  -----  \n",
      " 0   Date            10000 non-null  object \n",
      " 1   Location        10000 non-null  object \n",
      " 2   Country         10000 non-null  object \n",
      " 3   Temperature     10000 non-null  float64\n",
      " 4   CO2 Emissions   10000 non-null  float64\n",
      " 5   Sea Level Rise  10000 non-null  float64\n",
      " 6   Precipitation   10000 non-null  float64\n",
      " 7   Humidity        10000 non-null  float64\n",
      " 8   Wind Speed      10000 non-null  float64\n",
      "dtypes: float64(6), object(3)\n",
      "memory usage: 703.3+ KB\n"
     ]
    }
   ],
   "source": [
    "cs.info()"
   ]
  },
  {
   "cell_type": "code",
   "execution_count": 7,
   "id": "0bfdfe70",
   "metadata": {},
   "outputs": [
    {
     "data": {
      "text/plain": [
       "0"
      ]
     },
     "execution_count": 7,
     "metadata": {},
     "output_type": "execute_result"
    }
   ],
   "source": [
    "cs.duplicated().sum()# checking duplictes in the dataset"
   ]
  },
  {
   "cell_type": "code",
   "execution_count": 8,
   "id": "27085e5a",
   "metadata": {},
   "outputs": [
    {
     "data": {
      "text/plain": [
       "Date              0\n",
       "Location          0\n",
       "Country           0\n",
       "Temperature       0\n",
       "CO2 Emissions     0\n",
       "Sea Level Rise    0\n",
       "Precipitation     0\n",
       "Humidity          0\n",
       "Wind Speed        0\n",
       "dtype: int64"
      ]
     },
     "execution_count": 8,
     "metadata": {},
     "output_type": "execute_result"
    }
   ],
   "source": [
    "cs.isnull().sum()# checking values "
   ]
  },
  {
   "cell_type": "code",
   "execution_count": 9,
   "id": "2c7c97cd",
   "metadata": {},
   "outputs": [],
   "source": [
    "del cs[\"Country\"]\n",
    "del cs[\"Date\"]\n",
    "del cs[\"Location\"]"
   ]
  },
  {
   "cell_type": "code",
   "execution_count": 10,
   "id": "5918872d",
   "metadata": {},
   "outputs": [
    {
     "data": {
      "text/html": [
       "<div>\n",
       "<style scoped>\n",
       "    .dataframe tbody tr th:only-of-type {\n",
       "        vertical-align: middle;\n",
       "    }\n",
       "\n",
       "    .dataframe tbody tr th {\n",
       "        vertical-align: top;\n",
       "    }\n",
       "\n",
       "    .dataframe thead th {\n",
       "        text-align: right;\n",
       "    }\n",
       "</style>\n",
       "<table border=\"1\" class=\"dataframe\">\n",
       "  <thead>\n",
       "    <tr style=\"text-align: right;\">\n",
       "      <th></th>\n",
       "      <th>Temperature</th>\n",
       "      <th>CO2 Emissions</th>\n",
       "      <th>Sea Level Rise</th>\n",
       "      <th>Precipitation</th>\n",
       "      <th>Humidity</th>\n",
       "      <th>Wind Speed</th>\n",
       "    </tr>\n",
       "  </thead>\n",
       "  <tbody>\n",
       "    <tr>\n",
       "      <th>0</th>\n",
       "      <td>10.688986</td>\n",
       "      <td>403.118903</td>\n",
       "      <td>0.717506</td>\n",
       "      <td>13.835237</td>\n",
       "      <td>23.631256</td>\n",
       "      <td>18.492026</td>\n",
       "    </tr>\n",
       "    <tr>\n",
       "      <th>1</th>\n",
       "      <td>13.814430</td>\n",
       "      <td>396.663499</td>\n",
       "      <td>1.205715</td>\n",
       "      <td>40.974084</td>\n",
       "      <td>43.982946</td>\n",
       "      <td>34.249300</td>\n",
       "    </tr>\n",
       "    <tr>\n",
       "      <th>2</th>\n",
       "      <td>27.323718</td>\n",
       "      <td>451.553155</td>\n",
       "      <td>-0.160783</td>\n",
       "      <td>42.697931</td>\n",
       "      <td>96.652600</td>\n",
       "      <td>34.124261</td>\n",
       "    </tr>\n",
       "    <tr>\n",
       "      <th>3</th>\n",
       "      <td>12.309581</td>\n",
       "      <td>422.404983</td>\n",
       "      <td>-0.475931</td>\n",
       "      <td>5.193341</td>\n",
       "      <td>47.467938</td>\n",
       "      <td>8.554563</td>\n",
       "    </tr>\n",
       "    <tr>\n",
       "      <th>4</th>\n",
       "      <td>13.210885</td>\n",
       "      <td>410.472999</td>\n",
       "      <td>1.135757</td>\n",
       "      <td>78.695280</td>\n",
       "      <td>61.789672</td>\n",
       "      <td>8.001164</td>\n",
       "    </tr>\n",
       "  </tbody>\n",
       "</table>\n",
       "</div>"
      ],
      "text/plain": [
       "   Temperature  CO2 Emissions  Sea Level Rise  Precipitation   Humidity  \\\n",
       "0    10.688986     403.118903        0.717506      13.835237  23.631256   \n",
       "1    13.814430     396.663499        1.205715      40.974084  43.982946   \n",
       "2    27.323718     451.553155       -0.160783      42.697931  96.652600   \n",
       "3    12.309581     422.404983       -0.475931       5.193341  47.467938   \n",
       "4    13.210885     410.472999        1.135757      78.695280  61.789672   \n",
       "\n",
       "   Wind Speed  \n",
       "0   18.492026  \n",
       "1   34.249300  \n",
       "2   34.124261  \n",
       "3    8.554563  \n",
       "4    8.001164  "
      ]
     },
     "execution_count": 10,
     "metadata": {},
     "output_type": "execute_result"
    }
   ],
   "source": [
    "cs.head()"
   ]
  },
  {
   "cell_type": "code",
   "execution_count": null,
   "id": "45a31869",
   "metadata": {},
   "outputs": [],
   "source": []
  },
  {
   "cell_type": "code",
   "execution_count": 11,
   "id": "334274ae",
   "metadata": {},
   "outputs": [],
   "source": [
    "# normalizing data\n",
    "from sklearn.preprocessing import StandardScaler"
   ]
  },
  {
   "cell_type": "code",
   "execution_count": 12,
   "id": "0dfa46ab",
   "metadata": {},
   "outputs": [],
   "source": [
    "# create scaler \n",
    "scaler= StandardScaler()"
   ]
  },
  {
   "cell_type": "code",
   "execution_count": 13,
   "id": "34bc5bd2",
   "metadata": {},
   "outputs": [],
   "source": [
    "scaled_data=scaler.fit_transform(cs)"
   ]
  },
  {
   "cell_type": "code",
   "execution_count": 14,
   "id": "c2bb062f",
   "metadata": {},
   "outputs": [
    {
     "data": {
      "text/plain": [
       "array([[-0.84428235,  0.0583251 ,  0.72698312, -1.24895198, -0.90362832,\n",
       "        -0.45555605],\n",
       "       [-0.22296665, -0.0715768 ,  1.21947681, -0.30862173, -0.20009616,\n",
       "         0.63371229],\n",
       "       [ 2.46258188,  1.03296623, -0.15901486, -0.24889237,  1.62062717,\n",
       "         0.62506861],\n",
       "       ...,\n",
       "       [ 1.47782355,  1.32452758,  1.03889517, -0.66599853, -1.19467741,\n",
       "        -0.46926539],\n",
       "       [ 0.89353758, -1.25407759, -0.90000798, -1.07234541,  1.14087951,\n",
       "         1.19883035],\n",
       "       [-0.45207579, -0.38329679,  2.28381093,  0.98605302,  1.71020593,\n",
       "         1.15958528]])"
      ]
     },
     "execution_count": 14,
     "metadata": {},
     "output_type": "execute_result"
    }
   ],
   "source": [
    "scaled_data"
   ]
  },
  {
   "cell_type": "code",
   "execution_count": 15,
   "id": "c5bc1982",
   "metadata": {},
   "outputs": [
    {
     "data": {
      "text/html": [
       "<div>\n",
       "<style scoped>\n",
       "    .dataframe tbody tr th:only-of-type {\n",
       "        vertical-align: middle;\n",
       "    }\n",
       "\n",
       "    .dataframe tbody tr th {\n",
       "        vertical-align: top;\n",
       "    }\n",
       "\n",
       "    .dataframe thead th {\n",
       "        text-align: right;\n",
       "    }\n",
       "</style>\n",
       "<table border=\"1\" class=\"dataframe\">\n",
       "  <thead>\n",
       "    <tr style=\"text-align: right;\">\n",
       "      <th></th>\n",
       "      <th>0</th>\n",
       "      <th>1</th>\n",
       "      <th>2</th>\n",
       "      <th>3</th>\n",
       "      <th>4</th>\n",
       "      <th>5</th>\n",
       "    </tr>\n",
       "  </thead>\n",
       "  <tbody>\n",
       "    <tr>\n",
       "      <th>0</th>\n",
       "      <td>-0.844282</td>\n",
       "      <td>0.058325</td>\n",
       "      <td>0.726983</td>\n",
       "      <td>-1.248952</td>\n",
       "      <td>-0.903628</td>\n",
       "      <td>-0.455556</td>\n",
       "    </tr>\n",
       "    <tr>\n",
       "      <th>1</th>\n",
       "      <td>-0.222967</td>\n",
       "      <td>-0.071577</td>\n",
       "      <td>1.219477</td>\n",
       "      <td>-0.308622</td>\n",
       "      <td>-0.200096</td>\n",
       "      <td>0.633712</td>\n",
       "    </tr>\n",
       "    <tr>\n",
       "      <th>2</th>\n",
       "      <td>2.462582</td>\n",
       "      <td>1.032966</td>\n",
       "      <td>-0.159015</td>\n",
       "      <td>-0.248892</td>\n",
       "      <td>1.620627</td>\n",
       "      <td>0.625069</td>\n",
       "    </tr>\n",
       "    <tr>\n",
       "      <th>3</th>\n",
       "      <td>-0.522120</td>\n",
       "      <td>0.446418</td>\n",
       "      <td>-0.476930</td>\n",
       "      <td>-1.548384</td>\n",
       "      <td>-0.079624</td>\n",
       "      <td>-1.142513</td>\n",
       "    </tr>\n",
       "    <tr>\n",
       "      <th>4</th>\n",
       "      <td>-0.342947</td>\n",
       "      <td>0.206311</td>\n",
       "      <td>1.148905</td>\n",
       "      <td>0.998375</td>\n",
       "      <td>0.415460</td>\n",
       "      <td>-1.180768</td>\n",
       "    </tr>\n",
       "    <tr>\n",
       "      <th>...</th>\n",
       "      <td>...</td>\n",
       "      <td>...</td>\n",
       "      <td>...</td>\n",
       "      <td>...</td>\n",
       "      <td>...</td>\n",
       "      <td>...</td>\n",
       "    </tr>\n",
       "    <tr>\n",
       "      <th>9995</th>\n",
       "      <td>0.016796</td>\n",
       "      <td>-0.177906</td>\n",
       "      <td>-1.461810</td>\n",
       "      <td>1.508470</td>\n",
       "      <td>-0.846156</td>\n",
       "      <td>-1.282338</td>\n",
       "    </tr>\n",
       "    <tr>\n",
       "      <th>9996</th>\n",
       "      <td>0.365066</td>\n",
       "      <td>-1.072540</td>\n",
       "      <td>0.551567</td>\n",
       "      <td>0.000060</td>\n",
       "      <td>1.625287</td>\n",
       "      <td>1.186716</td>\n",
       "    </tr>\n",
       "    <tr>\n",
       "      <th>9997</th>\n",
       "      <td>1.477824</td>\n",
       "      <td>1.324528</td>\n",
       "      <td>1.038895</td>\n",
       "      <td>-0.665999</td>\n",
       "      <td>-1.194677</td>\n",
       "      <td>-0.469265</td>\n",
       "    </tr>\n",
       "    <tr>\n",
       "      <th>9998</th>\n",
       "      <td>0.893538</td>\n",
       "      <td>-1.254078</td>\n",
       "      <td>-0.900008</td>\n",
       "      <td>-1.072345</td>\n",
       "      <td>1.140880</td>\n",
       "      <td>1.198830</td>\n",
       "    </tr>\n",
       "    <tr>\n",
       "      <th>9999</th>\n",
       "      <td>-0.452076</td>\n",
       "      <td>-0.383297</td>\n",
       "      <td>2.283811</td>\n",
       "      <td>0.986053</td>\n",
       "      <td>1.710206</td>\n",
       "      <td>1.159585</td>\n",
       "    </tr>\n",
       "  </tbody>\n",
       "</table>\n",
       "<p>10000 rows × 6 columns</p>\n",
       "</div>"
      ],
      "text/plain": [
       "             0         1         2         3         4         5\n",
       "0    -0.844282  0.058325  0.726983 -1.248952 -0.903628 -0.455556\n",
       "1    -0.222967 -0.071577  1.219477 -0.308622 -0.200096  0.633712\n",
       "2     2.462582  1.032966 -0.159015 -0.248892  1.620627  0.625069\n",
       "3    -0.522120  0.446418 -0.476930 -1.548384 -0.079624 -1.142513\n",
       "4    -0.342947  0.206311  1.148905  0.998375  0.415460 -1.180768\n",
       "...        ...       ...       ...       ...       ...       ...\n",
       "9995  0.016796 -0.177906 -1.461810  1.508470 -0.846156 -1.282338\n",
       "9996  0.365066 -1.072540  0.551567  0.000060  1.625287  1.186716\n",
       "9997  1.477824  1.324528  1.038895 -0.665999 -1.194677 -0.469265\n",
       "9998  0.893538 -1.254078 -0.900008 -1.072345  1.140880  1.198830\n",
       "9999 -0.452076 -0.383297  2.283811  0.986053  1.710206  1.159585\n",
       "\n",
       "[10000 rows x 6 columns]"
      ]
     },
     "execution_count": 15,
     "metadata": {},
     "output_type": "execute_result"
    }
   ],
   "source": [
    "scaled_data1=pd.DataFrame(scaled_data)\n",
    "scaled_data1"
   ]
  },
  {
   "cell_type": "code",
   "execution_count": 16,
   "id": "e06a6b15",
   "metadata": {},
   "outputs": [
    {
     "data": {
      "text/plain": [
       "Index(['Temperature', 'CO2 Emissions', 'Sea Level Rise', 'Precipitation',\n",
       "       'Humidity', 'Wind Speed'],\n",
       "      dtype='object')"
      ]
     },
     "execution_count": 16,
     "metadata": {},
     "output_type": "execute_result"
    }
   ],
   "source": [
    "cs.columns"
   ]
  },
  {
   "cell_type": "code",
   "execution_count": 17,
   "id": "2abd088c",
   "metadata": {},
   "outputs": [
    {
     "data": {
      "text/html": [
       "<div>\n",
       "<style scoped>\n",
       "    .dataframe tbody tr th:only-of-type {\n",
       "        vertical-align: middle;\n",
       "    }\n",
       "\n",
       "    .dataframe tbody tr th {\n",
       "        vertical-align: top;\n",
       "    }\n",
       "\n",
       "    .dataframe thead th {\n",
       "        text-align: right;\n",
       "    }\n",
       "</style>\n",
       "<table border=\"1\" class=\"dataframe\">\n",
       "  <thead>\n",
       "    <tr style=\"text-align: right;\">\n",
       "      <th></th>\n",
       "      <th>0</th>\n",
       "      <th>1</th>\n",
       "      <th>2</th>\n",
       "      <th>3</th>\n",
       "      <th>4</th>\n",
       "      <th>5</th>\n",
       "    </tr>\n",
       "  </thead>\n",
       "  <tbody>\n",
       "    <tr>\n",
       "      <th>0</th>\n",
       "      <td>-0.844282</td>\n",
       "      <td>0.058325</td>\n",
       "      <td>0.726983</td>\n",
       "      <td>-1.248952</td>\n",
       "      <td>-0.903628</td>\n",
       "      <td>-0.455556</td>\n",
       "    </tr>\n",
       "    <tr>\n",
       "      <th>1</th>\n",
       "      <td>-0.222967</td>\n",
       "      <td>-0.071577</td>\n",
       "      <td>1.219477</td>\n",
       "      <td>-0.308622</td>\n",
       "      <td>-0.200096</td>\n",
       "      <td>0.633712</td>\n",
       "    </tr>\n",
       "    <tr>\n",
       "      <th>2</th>\n",
       "      <td>2.462582</td>\n",
       "      <td>1.032966</td>\n",
       "      <td>-0.159015</td>\n",
       "      <td>-0.248892</td>\n",
       "      <td>1.620627</td>\n",
       "      <td>0.625069</td>\n",
       "    </tr>\n",
       "    <tr>\n",
       "      <th>3</th>\n",
       "      <td>-0.522120</td>\n",
       "      <td>0.446418</td>\n",
       "      <td>-0.476930</td>\n",
       "      <td>-1.548384</td>\n",
       "      <td>-0.079624</td>\n",
       "      <td>-1.142513</td>\n",
       "    </tr>\n",
       "    <tr>\n",
       "      <th>4</th>\n",
       "      <td>-0.342947</td>\n",
       "      <td>0.206311</td>\n",
       "      <td>1.148905</td>\n",
       "      <td>0.998375</td>\n",
       "      <td>0.415460</td>\n",
       "      <td>-1.180768</td>\n",
       "    </tr>\n",
       "    <tr>\n",
       "      <th>...</th>\n",
       "      <td>...</td>\n",
       "      <td>...</td>\n",
       "      <td>...</td>\n",
       "      <td>...</td>\n",
       "      <td>...</td>\n",
       "      <td>...</td>\n",
       "    </tr>\n",
       "    <tr>\n",
       "      <th>9995</th>\n",
       "      <td>0.016796</td>\n",
       "      <td>-0.177906</td>\n",
       "      <td>-1.461810</td>\n",
       "      <td>1.508470</td>\n",
       "      <td>-0.846156</td>\n",
       "      <td>-1.282338</td>\n",
       "    </tr>\n",
       "    <tr>\n",
       "      <th>9996</th>\n",
       "      <td>0.365066</td>\n",
       "      <td>-1.072540</td>\n",
       "      <td>0.551567</td>\n",
       "      <td>0.000060</td>\n",
       "      <td>1.625287</td>\n",
       "      <td>1.186716</td>\n",
       "    </tr>\n",
       "    <tr>\n",
       "      <th>9997</th>\n",
       "      <td>1.477824</td>\n",
       "      <td>1.324528</td>\n",
       "      <td>1.038895</td>\n",
       "      <td>-0.665999</td>\n",
       "      <td>-1.194677</td>\n",
       "      <td>-0.469265</td>\n",
       "    </tr>\n",
       "    <tr>\n",
       "      <th>9998</th>\n",
       "      <td>0.893538</td>\n",
       "      <td>-1.254078</td>\n",
       "      <td>-0.900008</td>\n",
       "      <td>-1.072345</td>\n",
       "      <td>1.140880</td>\n",
       "      <td>1.198830</td>\n",
       "    </tr>\n",
       "    <tr>\n",
       "      <th>9999</th>\n",
       "      <td>-0.452076</td>\n",
       "      <td>-0.383297</td>\n",
       "      <td>2.283811</td>\n",
       "      <td>0.986053</td>\n",
       "      <td>1.710206</td>\n",
       "      <td>1.159585</td>\n",
       "    </tr>\n",
       "  </tbody>\n",
       "</table>\n",
       "<p>10000 rows × 6 columns</p>\n",
       "</div>"
      ],
      "text/plain": [
       "             0         1         2         3         4         5\n",
       "0    -0.844282  0.058325  0.726983 -1.248952 -0.903628 -0.455556\n",
       "1    -0.222967 -0.071577  1.219477 -0.308622 -0.200096  0.633712\n",
       "2     2.462582  1.032966 -0.159015 -0.248892  1.620627  0.625069\n",
       "3    -0.522120  0.446418 -0.476930 -1.548384 -0.079624 -1.142513\n",
       "4    -0.342947  0.206311  1.148905  0.998375  0.415460 -1.180768\n",
       "...        ...       ...       ...       ...       ...       ...\n",
       "9995  0.016796 -0.177906 -1.461810  1.508470 -0.846156 -1.282338\n",
       "9996  0.365066 -1.072540  0.551567  0.000060  1.625287  1.186716\n",
       "9997  1.477824  1.324528  1.038895 -0.665999 -1.194677 -0.469265\n",
       "9998  0.893538 -1.254078 -0.900008 -1.072345  1.140880  1.198830\n",
       "9999 -0.452076 -0.383297  2.283811  0.986053  1.710206  1.159585\n",
       "\n",
       "[10000 rows x 6 columns]"
      ]
     },
     "execution_count": 17,
     "metadata": {},
     "output_type": "execute_result"
    }
   ],
   "source": [
    "scaled_data1.rename(columns={'0':'Temperature','1':'CO2 Emissions','2':'Sea Level Rise','3':'Precipitation','4':'Humidity','5':'Wind Speed'})"
   ]
  },
  {
   "cell_type": "code",
   "execution_count": 18,
   "id": "4dad08c1",
   "metadata": {},
   "outputs": [
    {
     "data": {
      "text/plain": [
       "Temperature       float64\n",
       "CO2 Emissions     float64\n",
       "Sea Level Rise    float64\n",
       "Precipitation     float64\n",
       "Humidity          float64\n",
       "Wind Speed        float64\n",
       "dtype: object"
      ]
     },
     "execution_count": 18,
     "metadata": {},
     "output_type": "execute_result"
    }
   ],
   "source": [
    "cs.dtypes\n"
   ]
  },
  {
   "cell_type": "markdown",
   "id": "e4d41a04",
   "metadata": {},
   "source": [
    "## ANALYZING THE DATA"
   ]
  },
  {
   "cell_type": "code",
   "execution_count": 19,
   "id": "79e93913",
   "metadata": {},
   "outputs": [
    {
     "data": {
      "text/plain": [
       "<Axes: >"
      ]
     },
     "execution_count": 19,
     "metadata": {},
     "output_type": "execute_result"
    },
    {
     "data": {
      "image/png": "[encoded data removed]",
      "text/plain": [
       "<Figure size 640x480 with 1 Axes>"
      ]
     },
     "metadata": {},
     "output_type": "display_data"
    }
   ],
   "source": [
    "cs[[\"Temperature\",\"CO2 Emissions\"]].plot()"
   ]
  },
  {
   "cell_type": "code",
   "execution_count": 20,
   "id": "5ae79fdc",
   "metadata": {},
   "outputs": [
    {
     "data": {
      "text/plain": [
       "<Axes: >"
      ]
     },
     "execution_count": 20,
     "metadata": {},
     "output_type": "execute_result"
    },
    {
     "data": {
      "image/png": "[encoded data removed]",
      "text/plain": [
       "<Figure size 640x480 with 1 Axes>"
      ]
     },
     "metadata": {},
     "output_type": "display_data"
    }
   ],
   "source": [
    "cs[['Humidity','Wind Speed']].plot()"
   ]
  },
  {
   "cell_type": "code",
   "execution_count": 21,
   "id": "41d52c66",
   "metadata": {},
   "outputs": [],
   "source": [
    "cs['target']=cs.shift(-1)['Temperature']"
   ]
  },
  {
   "cell_type": "code",
   "execution_count": 22,
   "id": "420084e5",
   "metadata": {
    "scrolled": true
   },
   "outputs": [
    {
     "data": {
      "text/html": [
       "<div>\n",
       "<style scoped>\n",
       "    .dataframe tbody tr th:only-of-type {\n",
       "        vertical-align: middle;\n",
       "    }\n",
       "\n",
       "    .dataframe tbody tr th {\n",
       "        vertical-align: top;\n",
       "    }\n",
       "\n",
       "    .dataframe thead th {\n",
       "        text-align: right;\n",
       "    }\n",
       "</style>\n",
       "<table border=\"1\" class=\"dataframe\">\n",
       "  <thead>\n",
       "    <tr style=\"text-align: right;\">\n",
       "      <th></th>\n",
       "      <th>Temperature</th>\n",
       "      <th>CO2 Emissions</th>\n",
       "      <th>Sea Level Rise</th>\n",
       "      <th>Precipitation</th>\n",
       "      <th>Humidity</th>\n",
       "      <th>Wind Speed</th>\n",
       "      <th>target</th>\n",
       "    </tr>\n",
       "  </thead>\n",
       "  <tbody>\n",
       "    <tr>\n",
       "      <th>0</th>\n",
       "      <td>10.688986</td>\n",
       "      <td>403.118903</td>\n",
       "      <td>0.717506</td>\n",
       "      <td>13.835237</td>\n",
       "      <td>23.631256</td>\n",
       "      <td>18.492026</td>\n",
       "      <td>13.814430</td>\n",
       "    </tr>\n",
       "    <tr>\n",
       "      <th>1</th>\n",
       "      <td>13.814430</td>\n",
       "      <td>396.663499</td>\n",
       "      <td>1.205715</td>\n",
       "      <td>40.974084</td>\n",
       "      <td>43.982946</td>\n",
       "      <td>34.249300</td>\n",
       "      <td>27.323718</td>\n",
       "    </tr>\n",
       "    <tr>\n",
       "      <th>2</th>\n",
       "      <td>27.323718</td>\n",
       "      <td>451.553155</td>\n",
       "      <td>-0.160783</td>\n",
       "      <td>42.697931</td>\n",
       "      <td>96.652600</td>\n",
       "      <td>34.124261</td>\n",
       "      <td>12.309581</td>\n",
       "    </tr>\n",
       "    <tr>\n",
       "      <th>3</th>\n",
       "      <td>12.309581</td>\n",
       "      <td>422.404983</td>\n",
       "      <td>-0.475931</td>\n",
       "      <td>5.193341</td>\n",
       "      <td>47.467938</td>\n",
       "      <td>8.554563</td>\n",
       "      <td>13.210885</td>\n",
       "    </tr>\n",
       "    <tr>\n",
       "      <th>4</th>\n",
       "      <td>13.210885</td>\n",
       "      <td>410.472999</td>\n",
       "      <td>1.135757</td>\n",
       "      <td>78.695280</td>\n",
       "      <td>61.789672</td>\n",
       "      <td>8.001164</td>\n",
       "      <td>6.229326</td>\n",
       "    </tr>\n",
       "    <tr>\n",
       "      <th>...</th>\n",
       "      <td>...</td>\n",
       "      <td>...</td>\n",
       "      <td>...</td>\n",
       "      <td>...</td>\n",
       "      <td>...</td>\n",
       "      <td>...</td>\n",
       "      <td>...</td>\n",
       "    </tr>\n",
       "    <tr>\n",
       "      <th>9995</th>\n",
       "      <td>15.020523</td>\n",
       "      <td>391.379537</td>\n",
       "      <td>-1.452243</td>\n",
       "      <td>93.417109</td>\n",
       "      <td>25.293814</td>\n",
       "      <td>6.531866</td>\n",
       "      <td>16.772451</td>\n",
       "    </tr>\n",
       "    <tr>\n",
       "      <th>9996</th>\n",
       "      <td>16.772451</td>\n",
       "      <td>346.921190</td>\n",
       "      <td>0.543616</td>\n",
       "      <td>49.882947</td>\n",
       "      <td>96.787402</td>\n",
       "      <td>42.249014</td>\n",
       "      <td>22.370025</td>\n",
       "    </tr>\n",
       "    <tr>\n",
       "      <th>9997</th>\n",
       "      <td>22.370025</td>\n",
       "      <td>466.042136</td>\n",
       "      <td>1.026704</td>\n",
       "      <td>30.659841</td>\n",
       "      <td>15.211825</td>\n",
       "      <td>18.293708</td>\n",
       "      <td>19.430853</td>\n",
       "    </tr>\n",
       "    <tr>\n",
       "      <th>9998</th>\n",
       "      <td>19.430853</td>\n",
       "      <td>337.899776</td>\n",
       "      <td>-0.895329</td>\n",
       "      <td>18.932275</td>\n",
       "      <td>82.774520</td>\n",
       "      <td>42.424255</td>\n",
       "      <td>12.661928</td>\n",
       "    </tr>\n",
       "    <tr>\n",
       "      <th>9999</th>\n",
       "      <td>12.661928</td>\n",
       "      <td>381.172746</td>\n",
       "      <td>2.260788</td>\n",
       "      <td>78.339658</td>\n",
       "      <td>99.243923</td>\n",
       "      <td>41.856539</td>\n",
       "      <td>NaN</td>\n",
       "    </tr>\n",
       "  </tbody>\n",
       "</table>\n",
       "<p>10000 rows × 7 columns</p>\n",
       "</div>"
      ],
      "text/plain": [
       "      Temperature  CO2 Emissions  Sea Level Rise  Precipitation   Humidity  \\\n",
       "0       10.688986     403.118903        0.717506      13.835237  23.631256   \n",
       "1       13.814430     396.663499        1.205715      40.974084  43.982946   \n",
       "2       27.323718     451.553155       -0.160783      42.697931  96.652600   \n",
       "3       12.309581     422.404983       -0.475931       5.193341  47.467938   \n",
       "4       13.210885     410.472999        1.135757      78.695280  61.789672   \n",
       "...           ...            ...             ...            ...        ...   \n",
       "9995    15.020523     391.379537       -1.452243      93.417109  25.293814   \n",
       "9996    16.772451     346.921190        0.543616      49.882947  96.787402   \n",
       "9997    22.370025     466.042136        1.026704      30.659841  15.211825   \n",
       "9998    19.430853     337.899776       -0.895329      18.932275  82.774520   \n",
       "9999    12.661928     381.172746        2.260788      78.339658  99.243923   \n",
       "\n",
       "      Wind Speed     target  \n",
       "0      18.492026  13.814430  \n",
       "1      34.249300  27.323718  \n",
       "2      34.124261  12.309581  \n",
       "3       8.554563  13.210885  \n",
       "4       8.001164   6.229326  \n",
       "...          ...        ...  \n",
       "9995    6.531866  16.772451  \n",
       "9996   42.249014  22.370025  \n",
       "9997   18.293708  19.430853  \n",
       "9998   42.424255  12.661928  \n",
       "9999   41.856539        NaN  \n",
       "\n",
       "[10000 rows x 7 columns]"
      ]
     },
     "execution_count": 22,
     "metadata": {},
     "output_type": "execute_result"
    }
   ],
   "source": [
    "cs"
   ]
  },
  {
   "cell_type": "code",
   "execution_count": 23,
   "id": "00c830bd",
   "metadata": {},
   "outputs": [],
   "source": [
    "cs=cs.iloc[:-1,:].copy()"
   ]
  },
  {
   "cell_type": "code",
   "execution_count": 24,
   "id": "f59364d0",
   "metadata": {},
   "outputs": [
    {
     "data": {
      "text/html": [
       "<div>\n",
       "<style scoped>\n",
       "    .dataframe tbody tr th:only-of-type {\n",
       "        vertical-align: middle;\n",
       "    }\n",
       "\n",
       "    .dataframe tbody tr th {\n",
       "        vertical-align: top;\n",
       "    }\n",
       "\n",
       "    .dataframe thead th {\n",
       "        text-align: right;\n",
       "    }\n",
       "</style>\n",
       "<table border=\"1\" class=\"dataframe\">\n",
       "  <thead>\n",
       "    <tr style=\"text-align: right;\">\n",
       "      <th></th>\n",
       "      <th>Temperature</th>\n",
       "      <th>CO2 Emissions</th>\n",
       "      <th>Sea Level Rise</th>\n",
       "      <th>Precipitation</th>\n",
       "      <th>Humidity</th>\n",
       "      <th>Wind Speed</th>\n",
       "      <th>target</th>\n",
       "    </tr>\n",
       "  </thead>\n",
       "  <tbody>\n",
       "    <tr>\n",
       "      <th>0</th>\n",
       "      <td>10.688986</td>\n",
       "      <td>403.118903</td>\n",
       "      <td>0.717506</td>\n",
       "      <td>13.835237</td>\n",
       "      <td>23.631256</td>\n",
       "      <td>18.492026</td>\n",
       "      <td>13.814430</td>\n",
       "    </tr>\n",
       "    <tr>\n",
       "      <th>1</th>\n",
       "      <td>13.814430</td>\n",
       "      <td>396.663499</td>\n",
       "      <td>1.205715</td>\n",
       "      <td>40.974084</td>\n",
       "      <td>43.982946</td>\n",
       "      <td>34.249300</td>\n",
       "      <td>27.323718</td>\n",
       "    </tr>\n",
       "    <tr>\n",
       "      <th>2</th>\n",
       "      <td>27.323718</td>\n",
       "      <td>451.553155</td>\n",
       "      <td>-0.160783</td>\n",
       "      <td>42.697931</td>\n",
       "      <td>96.652600</td>\n",
       "      <td>34.124261</td>\n",
       "      <td>12.309581</td>\n",
       "    </tr>\n",
       "    <tr>\n",
       "      <th>3</th>\n",
       "      <td>12.309581</td>\n",
       "      <td>422.404983</td>\n",
       "      <td>-0.475931</td>\n",
       "      <td>5.193341</td>\n",
       "      <td>47.467938</td>\n",
       "      <td>8.554563</td>\n",
       "      <td>13.210885</td>\n",
       "    </tr>\n",
       "    <tr>\n",
       "      <th>4</th>\n",
       "      <td>13.210885</td>\n",
       "      <td>410.472999</td>\n",
       "      <td>1.135757</td>\n",
       "      <td>78.695280</td>\n",
       "      <td>61.789672</td>\n",
       "      <td>8.001164</td>\n",
       "      <td>6.229326</td>\n",
       "    </tr>\n",
       "    <tr>\n",
       "      <th>...</th>\n",
       "      <td>...</td>\n",
       "      <td>...</td>\n",
       "      <td>...</td>\n",
       "      <td>...</td>\n",
       "      <td>...</td>\n",
       "      <td>...</td>\n",
       "      <td>...</td>\n",
       "    </tr>\n",
       "    <tr>\n",
       "      <th>9994</th>\n",
       "      <td>17.147936</td>\n",
       "      <td>414.475259</td>\n",
       "      <td>-0.046996</td>\n",
       "      <td>20.815504</td>\n",
       "      <td>39.215362</td>\n",
       "      <td>15.988626</td>\n",
       "      <td>15.020523</td>\n",
       "    </tr>\n",
       "    <tr>\n",
       "      <th>9995</th>\n",
       "      <td>15.020523</td>\n",
       "      <td>391.379537</td>\n",
       "      <td>-1.452243</td>\n",
       "      <td>93.417109</td>\n",
       "      <td>25.293814</td>\n",
       "      <td>6.531866</td>\n",
       "      <td>16.772451</td>\n",
       "    </tr>\n",
       "    <tr>\n",
       "      <th>9996</th>\n",
       "      <td>16.772451</td>\n",
       "      <td>346.921190</td>\n",
       "      <td>0.543616</td>\n",
       "      <td>49.882947</td>\n",
       "      <td>96.787402</td>\n",
       "      <td>42.249014</td>\n",
       "      <td>22.370025</td>\n",
       "    </tr>\n",
       "    <tr>\n",
       "      <th>9997</th>\n",
       "      <td>22.370025</td>\n",
       "      <td>466.042136</td>\n",
       "      <td>1.026704</td>\n",
       "      <td>30.659841</td>\n",
       "      <td>15.211825</td>\n",
       "      <td>18.293708</td>\n",
       "      <td>19.430853</td>\n",
       "    </tr>\n",
       "    <tr>\n",
       "      <th>9998</th>\n",
       "      <td>19.430853</td>\n",
       "      <td>337.899776</td>\n",
       "      <td>-0.895329</td>\n",
       "      <td>18.932275</td>\n",
       "      <td>82.774520</td>\n",
       "      <td>42.424255</td>\n",
       "      <td>12.661928</td>\n",
       "    </tr>\n",
       "  </tbody>\n",
       "</table>\n",
       "<p>9999 rows × 7 columns</p>\n",
       "</div>"
      ],
      "text/plain": [
       "      Temperature  CO2 Emissions  Sea Level Rise  Precipitation   Humidity  \\\n",
       "0       10.688986     403.118903        0.717506      13.835237  23.631256   \n",
       "1       13.814430     396.663499        1.205715      40.974084  43.982946   \n",
       "2       27.323718     451.553155       -0.160783      42.697931  96.652600   \n",
       "3       12.309581     422.404983       -0.475931       5.193341  47.467938   \n",
       "4       13.210885     410.472999        1.135757      78.695280  61.789672   \n",
       "...           ...            ...             ...            ...        ...   \n",
       "9994    17.147936     414.475259       -0.046996      20.815504  39.215362   \n",
       "9995    15.020523     391.379537       -1.452243      93.417109  25.293814   \n",
       "9996    16.772451     346.921190        0.543616      49.882947  96.787402   \n",
       "9997    22.370025     466.042136        1.026704      30.659841  15.211825   \n",
       "9998    19.430853     337.899776       -0.895329      18.932275  82.774520   \n",
       "\n",
       "      Wind Speed     target  \n",
       "0      18.492026  13.814430  \n",
       "1      34.249300  27.323718  \n",
       "2      34.124261  12.309581  \n",
       "3       8.554563  13.210885  \n",
       "4       8.001164   6.229326  \n",
       "...          ...        ...  \n",
       "9994   15.988626  15.020523  \n",
       "9995    6.531866  16.772451  \n",
       "9996   42.249014  22.370025  \n",
       "9997   18.293708  19.430853  \n",
       "9998   42.424255  12.661928  \n",
       "\n",
       "[9999 rows x 7 columns]"
      ]
     },
     "execution_count": 24,
     "metadata": {},
     "output_type": "execute_result"
    }
   ],
   "source": [
    "cs\n"
   ]
  },
  {
   "cell_type": "markdown",
   "id": "6a35d7d4",
   "metadata": {},
   "source": [
    "## Ridge Model"
   ]
  },
  {
   "cell_type": "code",
   "execution_count": 25,
   "id": "eab0837f",
   "metadata": {},
   "outputs": [],
   "source": [
    "from sklearn.linear_model import Ridge"
   ]
  },
  {
   "cell_type": "code",
   "execution_count": 26,
   "id": "b0cd91d2",
   "metadata": {},
   "outputs": [],
   "source": [
    "reg= Ridge(alpha=.1)"
   ]
  },
  {
   "cell_type": "code",
   "execution_count": 27,
   "id": "ee3ac925",
   "metadata": {},
   "outputs": [],
   "source": [
    "pred=['Temperature','Wind Speed']"
   ]
  },
  {
   "cell_type": "code",
   "execution_count": 41,
   "id": "24613cca",
   "metadata": {},
   "outputs": [],
   "source": [
    "train=cs.loc[:'5780']"
   ]
  },
  {
   "cell_type": "code",
   "execution_count": 42,
   "id": "f1eb0b4d",
   "metadata": {},
   "outputs": [],
   "source": [
    "test=cs.loc['9996':]"
   ]
  },
  {
   "cell_type": "code",
   "execution_count": 43,
   "id": "b8bfb8a6",
   "metadata": {},
   "outputs": [
    {
     "data": {
      "text/html": [
       "<style>#sk-container-id-2 {color: black;}#sk-container-id-2 pre{padding: 0;}#sk-container-id-2 div.sk-toggleable {background-color: white;}#sk-container-id-2 label.sk-toggleable__label {cursor: pointer;display: block;width: 100%;margin-bottom: 0;padding: 0.3em;box-sizing: border-box;text-align: center;}#sk-container-id-2 label.sk-toggleable__label-arrow:before {content: \"▸\";float: left;margin-right: 0.25em;color: #696969;}#sk-container-id-2 label.sk-toggleable__label-arrow:hover:before {color: black;}#sk-container-id-2 div.sk-estimator:hover label.sk-toggleable__label-arrow:before {color: black;}#sk-container-id-2 div.sk-toggleable__content {max-height: 0;max-width: 0;overflow: hidden;text-align: left;background-color: #f0f8ff;}#sk-container-id-2 div.sk-toggleable__content pre {margin: 0.2em;color: black;border-radius: 0.25em;background-color: #f0f8ff;}#sk-container-id-2 input.sk-toggleable__control:checked~div.sk-toggleable__content {max-height: 200px;max-width: 100%;overflow: auto;}#sk-container-id-2 input.sk-toggleable__control:checked~label.sk-toggleable__label-arrow:before {content: \"▾\";}#sk-container-id-2 div.sk-estimator input.sk-toggleable__control:checked~label.sk-toggleable__label {background-color: #d4ebff;}#sk-container-id-2 div.sk-label input.sk-toggleable__control:checked~label.sk-toggleable__label {background-color: #d4ebff;}#sk-container-id-2 input.sk-hidden--visually {border: 0;clip: rect(1px 1px 1px 1px);clip: rect(1px, 1px, 1px, 1px);height: 1px;margin: -1px;overflow: hidden;padding: 0;position: absolute;width: 1px;}#sk-container-id-2 div.sk-estimator {font-family: monospace;background-color: #f0f8ff;border: 1px dotted black;border-radius: 0.25em;box-sizing: border-box;margin-bottom: 0.5em;}#sk-container-id-2 div.sk-estimator:hover {background-color: #d4ebff;}#sk-container-id-2 div.sk-parallel-item::after {content: \"\";width: 100%;border-bottom: 1px solid gray;flex-grow: 1;}#sk-container-id-2 div.sk-label:hover label.sk-toggleable__label {background-color: #d4ebff;}#sk-container-id-2 div.sk-serial::before {content: \"\";position: absolute;border-left: 1px solid gray;box-sizing: border-box;top: 0;bottom: 0;left: 50%;z-index: 0;}#sk-container-id-2 div.sk-serial {display: flex;flex-direction: column;align-items: center;background-color: white;padding-right: 0.2em;padding-left: 0.2em;position: relative;}#sk-container-id-2 div.sk-item {position: relative;z-index: 1;}#sk-container-id-2 div.sk-parallel {display: flex;align-items: stretch;justify-content: center;background-color: white;position: relative;}#sk-container-id-2 div.sk-item::before, #sk-container-id-2 div.sk-parallel-item::before {content: \"\";position: absolute;border-left: 1px solid gray;box-sizing: border-box;top: 0;bottom: 0;left: 50%;z-index: -1;}#sk-container-id-2 div.sk-parallel-item {display: flex;flex-direction: column;z-index: 1;position: relative;background-color: white;}#sk-container-id-2 div.sk-parallel-item:first-child::after {align-self: flex-end;width: 50%;}#sk-container-id-2 div.sk-parallel-item:last-child::after {align-self: flex-start;width: 50%;}#sk-container-id-2 div.sk-parallel-item:only-child::after {width: 0;}#sk-container-id-2 div.sk-dashed-wrapped {border: 1px dashed gray;margin: 0 0.4em 0.5em 0.4em;box-sizing: border-box;padding-bottom: 0.4em;background-color: white;}#sk-container-id-2 div.sk-label label {font-family: monospace;font-weight: bold;display: inline-block;line-height: 1.2em;}#sk-container-id-2 div.sk-label-container {text-align: center;}#sk-container-id-2 div.sk-container {/* jupyter's `normalize.less` sets `[hidden] { display: none; }` but bootstrap.min.css set `[hidden] { display: none !important; }` so we also need the `!important` here to be able to override the default hidden behavior on the sphinx rendered scikit-learn.org. See: https://github.com/scikit-learn/scikit-learn/issues/21755 */display: inline-block !important;position: relative;}#sk-container-id-2 div.sk-text-repr-fallback {display: none;}</style><div id=\"sk-container-id-2\" class=\"sk-top-container\"><div class=\"sk-text-repr-fallback\"><pre>Ridge(alpha=0.1)</pre><b>In a Jupyter environment, please rerun this cell to show the HTML representation or trust the notebook. <br />On GitHub, the HTML representation is unable to render, please try loading this page with nbviewer.org.</b></div><div class=\"sk-container\" hidden><div class=\"sk-item\"><div class=\"sk-estimator sk-toggleable\"><input class=\"sk-toggleable__control sk-hidden--visually\" id=\"sk-estimator-id-2\" type=\"checkbox\" checked><label for=\"sk-estimator-id-2\" class=\"sk-toggleable__label sk-toggleable__label-arrow\">Ridge</label><div class=\"sk-toggleable__content\"><pre>Ridge(alpha=0.1)</pre></div></div></div></div></div>"
      ],
      "text/plain": [
       "Ridge(alpha=0.1)"
      ]
     },
     "execution_count": 43,
     "metadata": {},
     "output_type": "execute_result"
    }
   ],
   "source": [
    "reg.fit(train[pred],train[\"target\"])\n"
   ]
  },
  {
   "cell_type": "code",
   "execution_count": 44,
   "id": "71341d38",
   "metadata": {},
   "outputs": [],
   "source": [
    "preds=reg.predict(test[pred])"
   ]
  },
  {
   "cell_type": "code",
   "execution_count": 45,
   "id": "00f0c912",
   "metadata": {},
   "outputs": [],
   "source": [
    "from sklearn.metrics import mean_absolute_error"
   ]
  },
  {
   "cell_type": "code",
   "execution_count": 46,
   "id": "9d606e28",
   "metadata": {},
   "outputs": [
    {
     "data": {
      "text/plain": [
       "4.787199139292379"
      ]
     },
     "execution_count": 46,
     "metadata": {},
     "output_type": "execute_result"
    }
   ],
   "source": [
    "mean_absolute_error(test['target'], preds)"
   ]
  },
  {
   "cell_type": "code",
   "execution_count": 47,
   "id": "b85ca5cf",
   "metadata": {},
   "outputs": [],
   "source": [
    "combined=pd.concat([test['target'],pd.Series(preds)],axis=1)"
   ]
  },
  {
   "cell_type": "code",
   "execution_count": 48,
   "id": "e8c7d22a",
   "metadata": {},
   "outputs": [
    {
     "data": {
      "text/html": [
       "<div>\n",
       "<style scoped>\n",
       "    .dataframe tbody tr th:only-of-type {\n",
       "        vertical-align: middle;\n",
       "    }\n",
       "\n",
       "    .dataframe tbody tr th {\n",
       "        vertical-align: top;\n",
       "    }\n",
       "\n",
       "    .dataframe thead th {\n",
       "        text-align: right;\n",
       "    }\n",
       "</style>\n",
       "<table border=\"1\" class=\"dataframe\">\n",
       "  <thead>\n",
       "    <tr style=\"text-align: right;\">\n",
       "      <th></th>\n",
       "      <th>target</th>\n",
       "      <th>0</th>\n",
       "    </tr>\n",
       "  </thead>\n",
       "  <tbody>\n",
       "    <tr>\n",
       "      <th>9996</th>\n",
       "      <td>22.370025</td>\n",
       "      <td>NaN</td>\n",
       "    </tr>\n",
       "    <tr>\n",
       "      <th>9997</th>\n",
       "      <td>19.430853</td>\n",
       "      <td>NaN</td>\n",
       "    </tr>\n",
       "    <tr>\n",
       "      <th>9998</th>\n",
       "      <td>12.661928</td>\n",
       "      <td>NaN</td>\n",
       "    </tr>\n",
       "    <tr>\n",
       "      <th>0</th>\n",
       "      <td>NaN</td>\n",
       "      <td>14.987915</td>\n",
       "    </tr>\n",
       "    <tr>\n",
       "      <th>1</th>\n",
       "      <td>NaN</td>\n",
       "      <td>14.704881</td>\n",
       "    </tr>\n",
       "    <tr>\n",
       "      <th>2</th>\n",
       "      <td>NaN</td>\n",
       "      <td>14.915443</td>\n",
       "    </tr>\n",
       "  </tbody>\n",
       "</table>\n",
       "</div>"
      ],
      "text/plain": [
       "         target          0\n",
       "9996  22.370025        NaN\n",
       "9997  19.430853        NaN\n",
       "9998  12.661928        NaN\n",
       "0           NaN  14.987915\n",
       "1           NaN  14.704881\n",
       "2           NaN  14.915443"
      ]
     },
     "execution_count": 48,
     "metadata": {},
     "output_type": "execute_result"
    }
   ],
   "source": [
    "combined"
   ]
  },
  {
   "cell_type": "code",
   "execution_count": null,
   "id": "c7abc7b2",
   "metadata": {},
   "outputs": [],
   "source": []
  }
 ],
 "metadata": {
  "kernelspec": {
   "display_name": "Python 3 (ipykernel)",
   "language": "python",
   "name": "python3"
  },
  "language_info": {
   "codemirror_mode": {
    "name": "ipython",
    "version": 3
   },
   "file_extension": ".py",
   "mimetype": "text/x-python",
   "name": "python",
   "nbconvert_exporter": "python",
   "pygments_lexer": "ipython3",
   "version": "3.11.5"
  }
 },
 "nbformat": 4,
 "nbformat_minor": 5
}
